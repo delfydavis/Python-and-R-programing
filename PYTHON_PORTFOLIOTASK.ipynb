{
 "cells": [
  {
   "cell_type": "code",
   "execution_count": 5,
   "id": "1906a654",
   "metadata": {},
   "outputs": [],
   "source": [
    "#WEEK 3 \n",
    "#TASK 1\n",
    "\n",
    "import pandas as pd #importing Pandas\n"
   ]
  },
  {
   "cell_type": "code",
   "execution_count": 6,
   "id": "f8375e1c",
   "metadata": {},
   "outputs": [],
   "source": [
    "MyDataFrame = pd.read_csv('DataSet.csv',delimiter=',') #Loaded content into dataframe"
   ]
  },
  {
   "cell_type": "code",
   "execution_count": 8,
   "id": "e953ac16",
   "metadata": {},
   "outputs": [
    {
     "name": "stdout",
     "output_type": "stream",
     "text": [
      "    longitude  latitude  housing_median_age  total_rooms  population  median_income  median_house_value ocean_proximity\n",
      "0     -122.23     37.88             41.0000          880         322         8.3252              452600        NEAR BAY\n",
      "1     -122.23     37.88             41.0000          880         322         8.3252              452600        NEAR BAY\n",
      "2     -122.22     37.86             21.0000         7099        2401         8.3014              358500        NEAR BAY\n",
      "3     -122.25     37.84             52.0001         3104        1157         3.1200              241400        NEAR BAY\n",
      "4     -122.26     37.85             52.0000         3503        1504         3.2705              241800        NEAR BAY\n",
      "5     -121.65     39.32             40.0000          812         374         2.7891               73500          INLAND\n",
      "6     -121.69     39.36             29.0000         2220        1170         2.3224               56200          INLAND\n",
      "7     -121.70     39.37             32.0000         1852         911         1.7885               57000          INLAND\n",
      "8     -121.70     39.36             46.0000         1210         523         1.9100               63900          INLAND\n",
      "9     -121.70     39.36             37.0000         2330        1505         2.0474               56000          INLAND\n",
      "10    -121.69     39.36             34.0000          842         635         1.8355               63000          INLAND\n",
      "11    -121.74     39.38             27.0000         2596        1100         2.3243               85500             NaN\n",
      "12    -121.80     39.33             30.0000         1019         501         2.5259               81300          INLAND\n",
      "13    -120.46     38.15             16.0000         4221        1516         2.3816              116000          INLAND\n",
      "14    -120.55     38.12             10.0000         1566         785         2.5000              116100          INLAND\n",
      "15    -120.56     38.09             34.0000         2745        1150         2.3654               94900          INLAND\n",
      "16    -124.23     41.75             11.0000         3159        1343         2.4805               73200      NEAR OCEAN\n",
      "17    -124.21     41.77             17.0000         3461        1947         2.5795               68400          NEAR O\n",
      "18    -124.19     41.78             15.0000         3140        1645         1.6654               74600          NEAR O\n",
      "19    -124.16     41.74             15.0000         2715        1532         2.1829               69500      NEAR OCEAN\n",
      "20    -124.14     41.95             21.0000         2696        1208            NaN              122400      NEAR OCEAN\n",
      "21    -124.16     41.92             19.0000         1668         841         2.1336               75000      NEAR OCEAN\n",
      "22    -118.32     33.35             27.0000         1675         744         2.1579              450000          ISLAND\n",
      "23    -118.33     33.34             52.0000         2359        1100         2.8333              414700          ISLAND\n",
      "24    -118.32     33.33             52.0000         2127         733         3.3906              300000          ISLAND\n",
      "25    -118.32     33.34             52.0000          996         341         2.7361              450000          ISLAND\n",
      "26    -118.48     33.43             29.0000          716         422         2.6042              287500          ISLAND\n",
      "27    -118.48     33.43             29.0000          716         422         2.6042              287500          ISLAND\n"
     ]
    }
   ],
   "source": [
    "print(MyDataFrame.to_string())#printing the dataset"
   ]
  },
  {
   "cell_type": "code",
   "execution_count": 9,
   "id": "2feeb6f3",
   "metadata": {},
   "outputs": [],
   "source": [
    "MyDataFrame.at[20, 'median_income'] = int(0)#missing value at 20th row and median_income coloumn made to 0"
   ]
  },
  {
   "cell_type": "code",
   "execution_count": 10,
   "id": "96921214",
   "metadata": {},
   "outputs": [],
   "source": [
    "MyDataFrame.at[11, 'ocean_proximity'] = str(\"null\")# missing value(nan) at 11th row and  ocean_proximity coloumn is made to null"
   ]
  },
  {
   "cell_type": "code",
   "execution_count": 12,
   "id": "a4ac0b8c",
   "metadata": {},
   "outputs": [
    {
     "name": "stdout",
     "output_type": "stream",
     "text": [
      "    longitude  latitude  housing_median_age  total_rooms  population  median_income  median_house_value ocean_proximity\n",
      "0     -122.23     37.88             41.0000          880         322         8.3252              452600        NEAR BAY\n",
      "1     -122.23     37.88             41.0000          880         322         8.3252              452600        NEAR BAY\n",
      "2     -122.22     37.86             21.0000         7099        2401         8.3014              358500        NEAR BAY\n",
      "3     -122.25     37.84             52.0001         3104        1157         3.1200              241400        NEAR BAY\n",
      "4     -122.26     37.85             52.0000         3503        1504         3.2705              241800        NEAR BAY\n",
      "5     -121.65     39.32             40.0000          812         374         2.7891               73500          INLAND\n",
      "6     -121.69     39.36             29.0000         2220        1170         2.3224               56200          INLAND\n",
      "7     -121.70     39.37             32.0000         1852         911         1.7885               57000          INLAND\n",
      "8     -121.70     39.36             46.0000         1210         523         1.9100               63900          INLAND\n",
      "9     -121.70     39.36             37.0000         2330        1505         2.0474               56000          INLAND\n",
      "10    -121.69     39.36             34.0000          842         635         1.8355               63000          INLAND\n",
      "11    -121.74     39.38             27.0000         2596        1100         2.3243               85500            null\n",
      "12    -121.80     39.33             30.0000         1019         501         2.5259               81300          INLAND\n",
      "13    -120.46     38.15             16.0000         4221        1516         2.3816              116000          INLAND\n",
      "14    -120.55     38.12             10.0000         1566         785         2.5000              116100          INLAND\n",
      "15    -120.56     38.09             34.0000         2745        1150         2.3654               94900          INLAND\n",
      "16    -124.23     41.75             11.0000         3159        1343         2.4805               73200      NEAR OCEAN\n",
      "17    -124.21     41.77             17.0000         3461        1947         2.5795               68400          NEAR O\n",
      "18    -124.19     41.78             15.0000         3140        1645         1.6654               74600          NEAR O\n",
      "19    -124.16     41.74             15.0000         2715        1532         2.1829               69500      NEAR OCEAN\n",
      "20    -124.14     41.95             21.0000         2696        1208         0.0000              122400      NEAR OCEAN\n",
      "21    -124.16     41.92             19.0000         1668         841         2.1336               75000      NEAR OCEAN\n",
      "22    -118.32     33.35             27.0000         1675         744         2.1579              450000          ISLAND\n",
      "23    -118.33     33.34             52.0000         2359        1100         2.8333              414700          ISLAND\n",
      "24    -118.32     33.33             52.0000         2127         733         3.3906              300000          ISLAND\n",
      "25    -118.32     33.34             52.0000          996         341         2.7361              450000          ISLAND\n",
      "26    -118.48     33.43             29.0000          716         422         2.6042              287500          ISLAND\n",
      "27    -118.48     33.43             29.0000          716         422         2.6042              287500          ISLAND\n"
     ]
    }
   ],
   "source": [
    "print(MyDataFrame.to_string()) #processed dataset"
   ]
  },
  {
   "cell_type": "code",
   "execution_count": 13,
   "id": "42a3fa05",
   "metadata": {},
   "outputs": [],
   "source": [
    "MyDataFrame = MyDataFrame.drop_duplicates()#removal of unnecessary duplicates"
   ]
  },
  {
   "cell_type": "code",
   "execution_count": 14,
   "id": "bb0048a6",
   "metadata": {},
   "outputs": [],
   "source": [
    "MyDataFrame.at[3,'housing_median_age'] = int(MyDataFrame.at[3,'housing_median_age'])#at row no.3 and column 'housing_median_age' has unnecessary 4 th decimal place so changed it to int"
   ]
  },
  {
   "cell_type": "code",
   "execution_count": 15,
   "id": "9d37fb14",
   "metadata": {},
   "outputs": [
    {
     "name": "stdout",
     "output_type": "stream",
     "text": [
      "    longitude  latitude  housing_median_age  total_rooms  population  median_income  median_house_value ocean_proximity\n",
      "0     -122.23     37.88                41.0          880         322         8.3252              452600        NEAR BAY\n",
      "2     -122.22     37.86                21.0         7099        2401         8.3014              358500        NEAR BAY\n",
      "3     -122.25     37.84                52.0         3104        1157         3.1200              241400        NEAR BAY\n",
      "4     -122.26     37.85                52.0         3503        1504         3.2705              241800        NEAR BAY\n",
      "5     -121.65     39.32                40.0          812         374         2.7891               73500          INLAND\n",
      "6     -121.69     39.36                29.0         2220        1170         2.3224               56200          INLAND\n",
      "7     -121.70     39.37                32.0         1852         911         1.7885               57000          INLAND\n",
      "8     -121.70     39.36                46.0         1210         523         1.9100               63900          INLAND\n",
      "9     -121.70     39.36                37.0         2330        1505         2.0474               56000          INLAND\n",
      "10    -121.69     39.36                34.0          842         635         1.8355               63000          INLAND\n",
      "11    -121.74     39.38                27.0         2596        1100         2.3243               85500            null\n",
      "12    -121.80     39.33                30.0         1019         501         2.5259               81300          INLAND\n",
      "13    -120.46     38.15                16.0         4221        1516         2.3816              116000          INLAND\n",
      "14    -120.55     38.12                10.0         1566         785         2.5000              116100          INLAND\n",
      "15    -120.56     38.09                34.0         2745        1150         2.3654               94900          INLAND\n",
      "16    -124.23     41.75                11.0         3159        1343         2.4805               73200      NEAR OCEAN\n",
      "17    -124.21     41.77                17.0         3461        1947         2.5795               68400          NEAR O\n",
      "18    -124.19     41.78                15.0         3140        1645         1.6654               74600          NEAR O\n",
      "19    -124.16     41.74                15.0         2715        1532         2.1829               69500      NEAR OCEAN\n",
      "20    -124.14     41.95                21.0         2696        1208         0.0000              122400      NEAR OCEAN\n",
      "21    -124.16     41.92                19.0         1668         841         2.1336               75000      NEAR OCEAN\n",
      "22    -118.32     33.35                27.0         1675         744         2.1579              450000          ISLAND\n",
      "23    -118.33     33.34                52.0         2359        1100         2.8333              414700          ISLAND\n",
      "24    -118.32     33.33                52.0         2127         733         3.3906              300000          ISLAND\n",
      "25    -118.32     33.34                52.0          996         341         2.7361              450000          ISLAND\n",
      "26    -118.48     33.43                29.0          716         422         2.6042              287500          ISLAND\n"
     ]
    }
   ],
   "source": [
    "print(MyDataFrame.to_string())"
   ]
  },
  {
   "cell_type": "code",
   "execution_count": 18,
   "id": "7e232a28",
   "metadata": {},
   "outputs": [],
   "source": [
    "MyDataFrame.at[17, 'ocean_proximity'] = str(\"NEAR OCEAN\")#corrected worong data given as NEAR O made it o NEAR OCEAR at 17,ocean_proximity"
   ]
  },
  {
   "cell_type": "code",
   "execution_count": 19,
   "id": "a2f89bf4",
   "metadata": {},
   "outputs": [],
   "source": [
    "MyDataFrame.at[18, 'ocean_proximity'] = str(\"NEAR OCEAN\") #corrected worong data given as NEAR O made it o NEAR OCEAR at 18,ocean_proximity"
   ]
  },
  {
   "cell_type": "code",
   "execution_count": 20,
   "id": "fc08607f",
   "metadata": {},
   "outputs": [],
   "source": [
    "MyDataFrame.to_csv('UpdatedDatafile.csv')#updated dataframe is saved by name UpdatedDatafile.csv"
   ]
  },
  {
   "cell_type": "code",
   "execution_count": 21,
   "id": "509af4e8",
   "metadata": {},
   "outputs": [
    {
     "data": {
      "text/plain": [
       "174730.76923076922"
      ]
     },
     "execution_count": 21,
     "metadata": {},
     "output_type": "execute_result"
    }
   ],
   "source": [
    "MyDataFrame['median_house_value'].mean()#mean of coloumn median_house_value"
   ]
  },
  {
   "cell_type": "code",
   "execution_count": 22,
   "id": "6f11a2c5",
   "metadata": {},
   "outputs": [
    {
     "data": {
      "text/plain": [
       "90200.0"
      ]
     },
     "execution_count": 22,
     "metadata": {},
     "output_type": "execute_result"
    }
   ],
   "source": [
    "MyDataFrame['median_house_value'].median()#median of coloumn median_house_value"
   ]
  },
  {
   "cell_type": "code",
   "execution_count": 23,
   "id": "942a2586",
   "metadata": {},
   "outputs": [
    {
     "name": "stdout",
     "output_type": "stream",
     "text": [
      "Range of median_house_value: 396600\n"
     ]
    }
   ],
   "source": [
    "print(\"Range of median_house_value:\",MyDataFrame['median_house_value'].max()-MyDataFrame['median_house_value'].min())#Range of the coloumn 'median_house_value' is displayed"
   ]
  },
  {
   "cell_type": "code",
   "execution_count": 30,
   "id": "de6397a2",
   "metadata": {},
   "outputs": [],
   "source": [
    "MyDataFrame.reset_index()\n",
    "import pandas as pd\n",
    "MyDataFrame = pd.read_csv('UpdatedDatafile1.csv',delimiter=',')\n",
    "\n"
   ]
  },
  {
   "cell_type": "code",
   "execution_count": 31,
   "id": "207bc284",
   "metadata": {},
   "outputs": [],
   "source": [
    "for i in range(0,25):\n",
    "    MyDataFrame.at[i,'median_income']=int(MyDataFrame.at[i,'median_income']*10000) \n",
    "    \n"
   ]
  },
  {
   "cell_type": "code",
   "execution_count": 32,
   "id": "dc97a10f",
   "metadata": {},
   "outputs": [
    {
     "name": "stdout",
     "output_type": "stream",
     "text": [
      "    Unnamed: 0  longitude  latitude  housing_median_age  total_rooms  population  median_income  median_house_value ocean_proximity\n",
      "0            0    -122.23     37.88                  41          880         322     83252.0000              452600        NEAR BAY\n",
      "1            2    -122.22     37.86                  21         7099        2401     83013.0000              358500        NEAR BAY\n",
      "2            3    -122.25     37.84                  52         3104        1157     31200.0000              241400        NEAR BAY\n",
      "3            4    -122.26     37.85                  52         3503        1504     32705.0000              241800        NEAR BAY\n",
      "4            5    -121.65     39.32                  40          812         374     27891.0000               73500          INLAND\n",
      "5            6    -121.69     39.36                  29         2220        1170     23224.0000               56200          INLAND\n",
      "6            7    -121.70     39.37                  32         1852         911     17885.0000               57000          INLAND\n",
      "7            8    -121.70     39.36                  46         1210         523     19100.0000               63900          INLAND\n",
      "8            9    -121.70     39.36                  37         2330        1505     20474.0000               56000          INLAND\n",
      "9           10    -121.69     39.36                  34          842         635     18355.0000               63000          INLAND\n",
      "10          11    -121.74     39.38                  27         2596        1100     23243.0000               85500             NaN\n",
      "11          12    -121.80     39.33                  30         1019         501     25259.0000               81300          INLAND\n",
      "12          13    -120.46     38.15                  16         4221        1516     23816.0000              116000          INLAND\n",
      "13          14    -120.55     38.12                  10         1566         785     25000.0000              116100          INLAND\n",
      "14          15    -120.56     38.09                  34         2745        1150     23654.0000               94900          INLAND\n",
      "15          16    -124.23     41.75                  11         3159        1343     24805.0000               73200      NEAR OCEAN\n",
      "16          17    -124.21     41.77                  17         3461        1947     25795.0000               68400      NEAR OCEAN\n",
      "17          18    -124.19     41.78                  15         3140        1645     16654.0000               74600      NEAR OCEAN\n",
      "18          19    -124.16     41.74                  15         2715        1532     21829.0000               69500      NEAR OCEAN\n",
      "19          20    -124.14     41.95                  21         2696        1208         0.0000              122400      NEAR OCEAN\n",
      "20          21    -124.16     41.92                  19         1668         841     21336.0000               75000      NEAR OCEAN\n",
      "21          22    -118.32     33.35                  27         1675         744     21579.0000              450000          ISLAND\n",
      "22          23    -118.33     33.34                  52         2359        1100     28333.0000              414700          ISLAND\n",
      "23          24    -118.32     33.33                  52         2127         733     33906.0000              300000          ISLAND\n",
      "24          25    -118.32     33.34                  52          996         341     27361.0000              450000          ISLAND\n",
      "25          26    -118.48     33.43                  29          716         422         2.6042              287500          ISLAND\n"
     ]
    }
   ],
   "source": [
    "print(MyDataFrame.to_string())"
   ]
  },
  {
   "cell_type": "code",
   "execution_count": 33,
   "id": "f9b6e623",
   "metadata": {},
   "outputs": [],
   "source": [
    "#TASK 2 WEEK 4 "
   ]
  },
  {
   "cell_type": "code",
   "execution_count": 43,
   "id": "034fa055",
   "metadata": {},
   "outputs": [],
   "source": [
    "import numpy as np#importing numpy\n",
    "import pandas as pd#importing pandas\n",
    "import matplotlib.pyplot  as plt #importing matplotlib"
   ]
  },
  {
   "cell_type": "code",
   "execution_count": 44,
   "id": "ea67a2b2",
   "metadata": {},
   "outputs": [],
   "source": [
    "Array1=np.random.randint(0, 9, size=(5, 10))#declaring 2-d array and initialising with number 0-9 uniformaly"
   ]
  },
  {
   "cell_type": "code",
   "execution_count": 45,
   "id": "53eb691d",
   "metadata": {},
   "outputs": [
    {
     "name": "stdout",
     "output_type": "stream",
     "text": [
      "[[0 7 7 1 6 5 8 1 0 0]\n",
      " [5 5 2 6 3 1 1 1 6 8]\n",
      " [2 6 8 0 7 3 3 7 3 6]\n",
      " [6 6 7 2 3 8 8 8 2 1]\n",
      " [0 5 5 5 4 0 1 1 6 1]]\n"
     ]
    }
   ],
   "source": [
    "print(Array1)#printing array"
   ]
  },
  {
   "cell_type": "code",
   "execution_count": 46,
   "id": "cce95209",
   "metadata": {},
   "outputs": [
    {
     "name": "stdout",
     "output_type": "stream",
     "text": [
      "   row1\n",
      "0     0\n",
      "1     7\n",
      "2     7\n",
      "3     1\n",
      "4     6\n",
      "5     5\n",
      "6     8\n",
      "7     1\n",
      "8     0\n",
      "9     0\n"
     ]
    }
   ],
   "source": [
    "datasetrow1 = pd.DataFrame({'row1': Array1[0, :]})#dataframe of row1\n",
    "print(datasetrow1)"
   ]
  },
  {
   "cell_type": "code",
   "execution_count": 47,
   "id": "368eaa17",
   "metadata": {},
   "outputs": [
    {
     "name": "stdout",
     "output_type": "stream",
     "text": [
      "   row2\n",
      "0     5\n",
      "1     5\n",
      "2     2\n",
      "3     6\n",
      "4     3\n",
      "5     1\n",
      "6     1\n",
      "7     1\n",
      "8     6\n",
      "9     8\n"
     ]
    }
   ],
   "source": [
    "datasetrow2 = pd.DataFrame({'row2': Array1[1, :]})#dataframe of row 2\n",
    "\n",
    "print(datasetrow2)"
   ]
  },
  {
   "cell_type": "code",
   "execution_count": 48,
   "id": "72a5cb95",
   "metadata": {},
   "outputs": [
    {
     "name": "stdout",
     "output_type": "stream",
     "text": [
      "   row3\n",
      "0     2\n",
      "1     6\n",
      "2     8\n",
      "3     0\n",
      "4     7\n",
      "5     3\n",
      "6     3\n",
      "7     7\n",
      "8     3\n",
      "9     6\n"
     ]
    }
   ],
   "source": [
    "datasetrow3 = pd.DataFrame({'row3': Array1[2, :]})#dataframe of row3\n",
    "print(datasetrow3)"
   ]
  },
  {
   "cell_type": "code",
   "execution_count": 49,
   "id": "062af68b",
   "metadata": {},
   "outputs": [
    {
     "name": "stdout",
     "output_type": "stream",
     "text": [
      "   row4\n",
      "0     6\n",
      "1     6\n",
      "2     7\n",
      "3     2\n",
      "4     3\n",
      "5     8\n",
      "6     8\n",
      "7     8\n",
      "8     2\n",
      "9     1\n"
     ]
    }
   ],
   "source": [
    "datasetrow4 = pd.DataFrame({'row4': Array1[3, :]})#dataframe of row4\n",
    "print(datasetrow4)"
   ]
  },
  {
   "cell_type": "code",
   "execution_count": 50,
   "id": "27793a4a",
   "metadata": {},
   "outputs": [
    {
     "name": "stdout",
     "output_type": "stream",
     "text": [
      "   row5\n",
      "0     0\n",
      "1     5\n",
      "2     5\n",
      "3     5\n",
      "4     4\n",
      "5     0\n",
      "6     1\n",
      "7     1\n",
      "8     6\n",
      "9     1\n"
     ]
    }
   ],
   "source": [
    "datasetrow5 = pd.DataFrame({'row5': Array1[4, :]})#dataframe of row5\n",
    "print(datasetrow5)"
   ]
  },
  {
   "cell_type": "code",
   "execution_count": 51,
   "id": "239a56ce",
   "metadata": {},
   "outputs": [
    {
     "data": {
      "image/png": "[encoded data removed]",
      "text/plain": [
       "<Figure size 432x288 with 1 Axes>"
      ]
     },
     "metadata": {
      "needs_background": "light"
     },
     "output_type": "display_data"
    }
   ],
   "source": [
    "# Ploting the dataset\n",
    "plt.plot(datasetrow1, marker='o', color='r') #datasetrow1\n",
    "plt.plot(datasetrow2, marker='o', color='y')#datasetrow2\n",
    "# Add label\n",
    "plt.ylabel('Data')\n",
    "plt.xlabel('Data')\n",
    "# Visualing the plot\n",
    "plt.show()"
   ]
  },
  {
   "cell_type": "code",
   "execution_count": 52,
   "id": "1b6e0081",
   "metadata": {},
   "outputs": [],
   "source": [
    "Array1=np.random.randint(0, 9, size=(5, 10))#declaring 2-d array and initialising with number 0-9 uniformaly"
   ]
  },
  {
   "cell_type": "code",
   "execution_count": 53,
   "id": "515c2a4f",
   "metadata": {},
   "outputs": [
    {
     "name": "stdout",
     "output_type": "stream",
     "text": [
      "[[4 1 6 8 8 2 4 1 6 2]\n",
      " [6 2 0 5 5 7 8 2 8 4]\n",
      " [5 4 4 3 7 3 5 3 8 0]\n",
      " [2 1 8 7 8 8 1 5 7 7]\n",
      " [8 2 3 7 3 5 1 2 1 8]]\n"
     ]
    }
   ],
   "source": [
    "print(Array1)#printing array"
   ]
  },
  {
   "cell_type": "code",
   "execution_count": 54,
   "id": "205cbe7e",
   "metadata": {},
   "outputs": [
    {
     "name": "stdout",
     "output_type": "stream",
     "text": [
      "   row1\n",
      "0     4\n",
      "1     1\n",
      "2     6\n",
      "3     8\n",
      "4     8\n",
      "5     2\n",
      "6     4\n",
      "7     1\n",
      "8     6\n",
      "9     2\n"
     ]
    }
   ],
   "source": [
    "datasetrow1 = pd.DataFrame({'row1': Array1[0, :]})#dataframe of row1\n",
    "print(datasetrow1)"
   ]
  },
  {
   "cell_type": "code",
   "execution_count": 55,
   "id": "c1937ae3",
   "metadata": {},
   "outputs": [],
   "source": [
    "datasetrow2 = pd.DataFrame({'row2': Array1[1, :]})#dataframe of row 2\n",
    "datasetrow3 = pd.DataFrame({'row3': Array1[2, :]})#dataframe of row3\n",
    "datasetrow4 = pd.DataFrame({'row4': Array1[3, :]})#dataframe of row4\n",
    "datasetrow5 = pd.DataFrame({'row5': Array1[4, :]})#dataframe of row5"
   ]
  },
  {
   "cell_type": "code",
   "execution_count": 56,
   "id": "c0326816",
   "metadata": {},
   "outputs": [
    {
     "name": "stdout",
     "output_type": "stream",
     "text": [
      "Mean of each row\n",
      "row1    4.2\n",
      "dtype: float64\n",
      "row2    4.7\n",
      "dtype: float64\n",
      "row3    4.2\n",
      "dtype: float64\n",
      "row4    5.4\n",
      "dtype: float64\n",
      "row5    4.0\n",
      "dtype: float64\n"
     ]
    }
   ],
   "source": [
    "#mean\n",
    "print(\"Mean of each row\")\n",
    "\n",
    "print(datasetrow1.mean())#mean of row 1\n",
    "print(datasetrow2.mean())#mean of row 2\n",
    "print(datasetrow3.mean())#mean of row 3\n",
    "print(datasetrow4.mean())#mean of row 4\n",
    "print(datasetrow5.mean())#mean of row 5"
   ]
  },
  {
   "cell_type": "code",
   "execution_count": 57,
   "id": "56c0dbad",
   "metadata": {},
   "outputs": [
    {
     "name": "stdout",
     "output_type": "stream",
     "text": [
      "Mode of each row\n",
      "   row1\n",
      "0     1\n",
      "1     2\n",
      "2     4\n",
      "3     6\n",
      "4     8\n",
      "   row2\n",
      "0     2\n",
      "1     5\n",
      "2     8\n",
      "   row3\n",
      "0     3\n",
      "   row4\n",
      "0     7\n",
      "1     8\n",
      "   row5\n",
      "0     1\n",
      "1     2\n",
      "2     3\n",
      "3     8\n"
     ]
    }
   ],
   "source": [
    "#mode\n",
    "print(\"Mode of each row\")\n",
    "print(datasetrow1.mode())# row 1\n",
    "print(datasetrow2.mode())#row 2\n",
    "print(datasetrow3.mode())#row 3\n",
    "print(datasetrow4.mode())#row 4\n",
    "print(datasetrow5.mode())# row 5"
   ]
  },
  {
   "cell_type": "code",
   "execution_count": 58,
   "id": "3f9b91ce",
   "metadata": {},
   "outputs": [
    {
     "name": "stdout",
     "output_type": "stream",
     "text": [
      "Median of each row\n",
      "row1    4.0\n",
      "dtype: float64\n",
      "row2    5.0\n",
      "dtype: float64\n",
      "row3    4.0\n",
      "dtype: float64\n",
      "row4    7.0\n",
      "dtype: float64\n",
      "row5    3.0\n",
      "dtype: float64\n"
     ]
    }
   ],
   "source": [
    "#median\n",
    "print(\"Median of each row\")\n",
    "print(datasetrow1.median())# row 1\n",
    "print(datasetrow2.median())#row 2\n",
    "print(datasetrow3.median())#row 3\n",
    "print(datasetrow4.median())#row 4\n",
    "print(datasetrow5.median())# row 5"
   ]
  },
  {
   "cell_type": "code",
   "execution_count": 59,
   "id": "cd428651",
   "metadata": {},
   "outputs": [
    {
     "name": "stdout",
     "output_type": "stream",
     "text": [
      "Standard deviation of each row\n",
      "row1    2.699794\n",
      "dtype: float64\n",
      "row2    2.710064\n",
      "dtype: float64\n",
      "row3    2.250926\n",
      "dtype: float64\n",
      "row4    2.951459\n",
      "dtype: float64\n",
      "row5    2.788867\n",
      "dtype: float64\n"
     ]
    }
   ],
   "source": [
    "#printing standard deviation of each row\n",
    "\n",
    "print(\"Standard deviation of each row\")\n",
    "print( datasetrow1.std())#row1\n",
    "print( datasetrow2.std())#row2\n",
    "print( datasetrow3.std())#row3\n",
    "print( datasetrow4.std())#row4\n",
    "print( datasetrow5.std())#row5"
   ]
  },
  {
   "cell_type": "code",
   "execution_count": 60,
   "id": "69e13c8f",
   "metadata": {},
   "outputs": [],
   "source": [
    "array1 = np.random.normal(loc=17, scale=0.2, size=1000) #initalising 1-d array with mean value 17 and mode 0.2"
   ]
  },
  {
   "cell_type": "code",
   "execution_count": 61,
   "id": "0de88860",
   "metadata": {},
   "outputs": [
    {
     "name": "stdout",
     "output_type": "stream",
     "text": [
      "[17.10162595 16.69060574 16.68985405 17.22950838 16.96359719 16.99728288\n",
      " 16.87825676 17.23471168 16.92562207 17.17502105 17.40524714 16.98739766\n",
      " 17.23898906 17.07684765 17.09726927 16.9988439  17.16843079 17.41392273\n",
      " 16.97535626 16.74892204 16.76639441 16.61081284 17.1565456  16.96052992\n",
      " 16.94306453 16.77323292 17.09703717 17.16261228 17.2303692  16.95968581\n",
      " 16.90908144 16.89388942 17.03713838 17.03928479 17.04151102 17.24637888\n",
      " 17.11213833 17.13860487 17.0588604  16.71547877 16.94945849 16.95932615\n",
      " 17.2552876  16.88059911 16.78541911 16.82275777 16.64650507 17.08032821\n",
      " 16.75438391 17.26654949 16.72039169 17.33180983 17.03432838 17.12472313\n",
      " 17.18385163 17.26745678 16.84506489 16.98048743 17.02524681 16.99952066\n",
      " 16.87610592 17.45146815 17.07716585 17.21126144 17.12036919 17.28168461\n",
      " 16.89334049 17.14978774 17.18557469 16.93237052 17.15949049 16.93608543\n",
      " 16.90495591 16.9327927  17.00699771 17.11153069 17.08589459 16.9702524\n",
      " 17.04277777 17.14000511 16.99060059 16.92463175 16.95759582 17.0518593\n",
      " 16.73054537 16.90597725 17.00368315 16.86008665 16.79123866 17.21302563\n",
      " 16.95820564 16.99208992 16.83160216 16.45591263 16.77303982 17.24197947\n",
      " 17.53522085 16.90171317 16.98401025 17.0491864  17.24566906 16.75198172\n",
      " 17.09929959 17.19612925 17.25106113 16.67592897 16.76926002 17.3106207\n",
      " 17.18902212 16.59493348 16.82760085 17.42934237 16.88781142 16.78939235\n",
      " 16.85020002 16.91427228 16.9905626  17.09393367 17.34543932 17.28845655\n",
      " 16.99157006 17.00852782 16.82997723 16.92631502 17.19737401 17.08211237\n",
      " 16.68865765 17.06372026 17.20271877 17.2878766  16.97678661 16.87955196\n",
      " 16.75714005 17.06002023 16.97415422 17.09292751 16.90109243 16.83477211\n",
      " 17.01514824 16.79072142 17.0726246  17.00677679 17.20673001 16.72175253\n",
      " 17.1908526  16.83279695 16.7417434  17.0130093  16.94155879 17.06163904\n",
      " 16.92787473 16.73849853 16.91116772 16.81757991 17.06360995 17.36608628\n",
      " 17.01587797 16.85564439 17.08540008 16.60347644 17.14533446 17.13583971\n",
      " 17.02100103 17.31327627 17.192271   16.95039311 16.89581669 17.07881871\n",
      " 17.12452203 16.9972706  16.95618395 16.97564728 16.80425776 17.06879571\n",
      " 17.22950323 16.92072783 16.63358595 17.12083814 16.93668613 17.18478117\n",
      " 17.05999415 16.91214649 17.07371498 17.04518296 17.09611657 16.97211547\n",
      " 16.8534366  16.97864258 16.7939941  16.86794473 16.87367394 16.55384872\n",
      " 16.98387605 17.44397856 16.73930268 16.9152446  17.10470966 16.93794997\n",
      " 17.20192314 17.09802501 17.04967904 17.11716465 16.65224182 17.19430043\n",
      " 17.08258981 16.94953805 17.02856761 16.80571061 16.8208015  17.01621821\n",
      " 17.3869595  17.11003706 17.05306247 16.96739784 16.91861336 17.14740431\n",
      " 16.88334205 17.09213487 16.8877437  17.28793791 16.98606653 16.73390903\n",
      " 16.9749506  17.07131874 17.30252033 17.03071992 17.01647489 16.93964583\n",
      " 16.78920758 16.90283799 17.34611249 17.07288611 16.87009065 16.96213346\n",
      " 16.89736686 16.81885503 17.03746263 17.11810897 17.21687548 16.94374435\n",
      " 17.0454231  17.18879301 16.80948825 16.87189042 17.14056387 17.35603141\n",
      " 17.20791976 17.10257095 16.88840305 16.93799168 16.72686897 16.98113117\n",
      " 17.05990738 17.25241473 17.13481173 16.98533332 17.42505337 17.11400597\n",
      " 17.00713495 16.61443158 17.36298777 16.7712674  16.88249184 17.37591805\n",
      " 16.85593339 16.73007117 17.0499398  17.06788661 16.72322158 17.19956243\n",
      " 16.63705841 17.11597274 17.05636978 17.07557432 16.70201303 17.06559632\n",
      " 16.7591823  16.85430654 16.83517587 16.55273336 16.73813424 16.73390407\n",
      " 16.97155725 17.17175134 16.87617851 17.01151271 17.04601211 17.14689436\n",
      " 17.14408785 16.69344188 17.03647387 17.02039492 16.95956498 16.92667634\n",
      " 16.94320705 17.13508312 16.93415879 16.76847417 17.05808424 16.69270147\n",
      " 16.95206311 17.00493296 16.9535475  16.99267009 16.39852874 16.92478258\n",
      " 16.83265629 17.21732965 16.9976886  17.13664701 17.07677787 16.99609301\n",
      " 17.14717257 16.95775734 17.12034789 16.97671345 16.66974121 17.12499144\n",
      " 17.30668277 16.93732141 16.85355123 17.04980248 17.05730635 17.07360285\n",
      " 16.93400077 16.82033128 17.01229763 16.84640036 17.25546726 16.7872072\n",
      " 16.88188804 16.96904225 16.70684676 17.42807085 16.9678816  17.37833965\n",
      " 17.18184326 17.33071563 16.74842213 17.23773471 16.91567253 17.12754148\n",
      " 17.20106173 17.27379006 16.48886761 16.90934719 17.10734462 16.71691456\n",
      " 17.30491596 17.15849982 17.09985618 17.31141945 16.84673643 17.4239036\n",
      " 17.10526707 16.91017537 17.3436498  16.92567208 16.99680698 17.00926679\n",
      " 17.09417641 17.21409343 17.24149701 17.10842444 17.14055347 17.20750598\n",
      " 17.08648511 16.73150604 16.82953927 17.03738039 17.02199171 17.12095533\n",
      " 17.25813274 17.16212033 17.10372514 16.99576571 17.12908024 17.09276261\n",
      " 16.98028176 17.46696319 17.08333159 17.12985782 16.8908974  17.06879786\n",
      " 16.68502699 17.25536428 17.162371   17.1502586  17.09884646 17.02943866\n",
      " 17.12961471 16.90045705 16.84653116 16.65407193 17.30611707 17.06062705\n",
      " 17.15625336 16.69866174 17.09158649 17.12536227 17.06975185 16.8612073\n",
      " 16.96623824 17.31621364 16.92863696 16.62596457 17.34507112 16.66857886\n",
      " 16.80027572 16.91590268 16.97640569 17.09361057 16.7616768  17.08536906\n",
      " 16.99283571 17.05635699 16.96697631 16.96225094 17.14909121 17.01934137\n",
      " 17.14567221 17.11006452 16.85636536 17.10965079 16.67564534 17.1445555\n",
      " 17.07707632 16.9492774  16.84900837 16.95005496 16.96350091 17.28268818\n",
      " 17.14777071 16.956416   16.90912917 16.73383601 16.77094963 16.97187658\n",
      " 17.08516447 16.94687649 17.14899945 17.03842367 16.80567366 17.23457463\n",
      " 17.0159061  16.98831648 16.96425537 16.83222252 17.16162341 17.14254217\n",
      " 17.17734509 17.03033045 16.41358482 17.32458857 16.68111262 17.13676502\n",
      " 16.66219673 16.79762754 16.94553131 16.79671825 16.95739779 17.30407373\n",
      " 16.99833753 17.03345422 16.58111421 17.16601583 16.82584845 16.77295546\n",
      " 16.80176446 17.13629399 16.93010325 17.00260502 16.85727336 17.01476356\n",
      " 17.29295124 17.1103048  16.94018112 16.79416637 16.6180498  17.03816607\n",
      " 16.91949239 16.88049202 16.82632196 16.89095952 17.68658384 16.86128021\n",
      " 17.19382776 16.79790427 16.74190329 17.12321624 16.90068182 17.22874254\n",
      " 17.20785045 16.95589134 17.03853574 17.05141486 16.85165474 17.13854302\n",
      " 16.94136005 16.87808901 16.88056874 16.99268356 17.08721779 17.20761854\n",
      " 17.13306013 16.84268721 16.95123815 16.75858129 17.15104383 16.94854712\n",
      " 17.24858437 16.68501523 17.03513432 16.61523074 16.94835178 16.89544295\n",
      " 17.13974536 16.85852102 16.86920419 16.88674123 17.03550167 16.69414078\n",
      " 16.94876642 17.19457969 17.10234968 16.88616559 16.97030686 17.01190075\n",
      " 17.1792185  16.98280125 16.84244749 16.68913738 16.99782925 16.69823395\n",
      " 16.9851206  16.72994916 17.35405692 17.09744809 17.37191238 17.03800231\n",
      " 17.21342504 16.77567208 16.99236812 16.69865068 17.13488243 17.28947742\n",
      " 16.8709328  16.83683212 16.79502577 17.00720845 16.92037992 16.94822981\n",
      " 16.93789883 16.91554736 17.0873616  16.66320385 17.29021397 17.10028214\n",
      " 16.61890849 16.53103879 16.93778814 17.16595393 16.83567963 16.67979814\n",
      " 16.84240609 16.72249901 17.20692736 16.89040959 16.64082764 17.05681529\n",
      " 16.93117391 16.8542509  17.04138357 17.19020722 17.20581185 16.9652674\n",
      " 17.43268369 16.70151956 16.93880319 16.96581175 16.93153687 16.89514612\n",
      " 16.89550313 16.88707025 16.78561063 17.07922898 17.11139219 17.01683542\n",
      " 17.1792291  17.01367797 16.75745557 17.13807879 17.05662937 17.0496075\n",
      " 17.02836944 16.87882431 16.95701283 17.00117275 17.17294268 16.8793608\n",
      " 17.09578512 16.84595203 16.98722702 16.83798826 17.14973611 16.86074858\n",
      " 17.06669811 17.01707062 16.66845899 16.83409716 16.7722471  17.1653041\n",
      " 17.02357742 17.21855447 17.12979674 17.18534764 16.83774193 17.13810932\n",
      " 16.75132141 16.77930993 16.84537921 17.28440016 17.03898045 17.30485925\n",
      " 17.23148043 17.10570984 17.15501181 16.94923115 16.95997555 17.2395431\n",
      " 16.98686952 17.22603917 16.94057025 17.09690095 16.89184499 17.05270981\n",
      " 16.92898967 16.77262702 17.29658135 16.93801749 16.89201076 17.31605875\n",
      " 17.07477762 17.28065967 17.09042897 17.20768841 16.92764589 17.04265415\n",
      " 17.06615653 16.99656474 16.79483617 16.98069488 17.03981693 16.92340152\n",
      " 16.71764178 16.93934666 16.5437664  16.89172772 16.6306521  16.82304366\n",
      " 16.9401111  17.16469246 17.15609633 16.83469237 16.83205611 17.07919306\n",
      " 17.31328993 17.28118185 16.73343081 16.96998385 16.96822454 16.9776039\n",
      " 17.18062749 17.16948417 17.29903004 16.90825697 17.22007112 17.20042941\n",
      " 16.53947999 17.03713303 16.96939183 16.97604467 17.43168053 16.82627588\n",
      " 17.12933149 16.89771026 16.73050011 16.93716495 17.05245472 17.18543499\n",
      " 16.88935628 17.08598823 16.8447696  17.04115605 17.10366089 17.06702249\n",
      " 17.05154532 16.92016425 17.05037365 17.01345147 17.04689136 16.8851638\n",
      " 17.2987483  16.90274298 16.90140514 17.18485881 16.87157633 16.97840402\n",
      " 17.20892971 16.69253695 17.18792715 16.69889197 16.95181837 16.97890886\n",
      " 16.98987638 17.15564527 17.04675915 17.13396779 17.20620591 16.78067115\n",
      " 16.83317882 17.11698141 17.1828289  16.95893597 16.9551804  17.05582461\n",
      " 17.17678433 16.85969045 17.01495201 17.04357163 17.00310851 17.01160643\n",
      " 17.24339381 17.19244009 16.68825843 17.38386535 17.45064752 17.0818469\n",
      " 16.71313134 16.88904009 16.79166875 17.09468643 17.58871779 17.01511858\n",
      " 17.22460107 17.06471798 16.8878698  17.05461412 17.02513011 16.84748838\n",
      " 16.77170503 17.16795182 17.03261016 16.8850018  16.9830662  16.64920549\n",
      " 16.84074375 16.93881286 17.24773053 16.8618536  17.17434128 17.15705576\n",
      " 17.12537653 16.65197074 16.65819321 17.41062511 17.2951859  17.3797116\n",
      " 16.53803667 16.92416243 16.86472986 17.21541394 16.93831497 17.05261671\n",
      " 17.13641494 17.21811506 17.17394112 16.99665513 17.10035393 17.0346147\n",
      " 17.08257327 16.78075663 17.15018689 17.12974254 16.62784075 17.01232522\n",
      " 16.87227399 16.81369296 16.9116185  17.21336263 17.04660287 16.89833418\n",
      " 16.8228419  17.0801309  17.05796286 16.95110757 17.40132199 16.79112127\n",
      " 17.25172492 17.21273751 16.66415032 16.98386855 17.19477118 16.79778239\n",
      " 17.06830178 16.9191188  16.90463334 17.32427172 16.93891993 16.97869138\n",
      " 17.21331972 16.78034805 16.83652376 17.28270195 16.8472772  16.91011399\n",
      " 17.14224358 16.49753182 17.03434272 17.22158988 16.78955532 17.22081524\n",
      " 17.07056358 16.94145278 16.73828212 16.97636249 17.05794059 17.02936267\n",
      " 16.77128059 16.98747158 17.48839925 16.934077   16.82726781 17.04038292\n",
      " 17.08251436 17.14962137 16.87647437 16.97028164 17.3698851  16.61525102\n",
      " 17.06959506 16.95081424 17.17226257 17.14223145 17.28677477 17.02397515\n",
      " 17.39725551 16.80337169 17.08551157 17.31950624 16.78080947 16.77778894\n",
      " 16.94452946 16.91667185 17.13242165 17.16949405 16.96653215 16.67077304\n",
      " 16.88732284 17.03182379 17.09517928 16.847797   16.72587977 17.08764341\n",
      " 17.07302405 16.8620557  16.87469827 16.97302179 17.38691686 17.13898295\n",
      " 16.76519231 16.92462886 16.62510164 16.84648196 16.92491631 16.98717802\n",
      " 17.06560588 17.02423899 16.93875745 17.27974447 17.16831376 17.08880333\n",
      " 17.19069784 17.08890176 17.11244306 17.10126345 17.13110786 17.17093621\n",
      " 17.06339121 16.73529666 16.6554448  17.04940739 16.56601411 16.70112467\n",
      " 17.26715073 16.81012956 16.94980482 16.92712428 16.99562822 16.93750688\n",
      " 16.80586501 16.91608235 17.0278996  17.10959994 16.62428938 16.88342168\n",
      " 16.99803225 17.13625607 16.63867426 17.14429911 16.64539433 17.01417234\n",
      " 16.91444761 16.90318913 16.71305784 17.19714843 17.19939877 16.9840946\n",
      " 17.00598335 16.79149818 17.21627544 16.82878319 17.40129385 16.98530995\n",
      " 17.06660331 17.02402407 17.41079845 17.15736446 16.79502642 17.08024722\n",
      " 16.71683891 16.96362627 17.11742863 17.20163124 17.24407053 16.94814102\n",
      " 17.33680255 17.06870433 16.68620087 16.77571089 17.16221347 17.09079627\n",
      " 17.14114812 17.13650867 17.050251   17.23858256 17.08112696 16.80299688\n",
      " 17.20382839 17.22847504 17.28322653 17.01920047 16.79507094 16.83141647\n",
      " 17.04479573 16.98287371 16.86469661 17.13154086 16.97023552 16.870495\n",
      " 16.97067795 17.02684835 16.86787493 17.14624924 17.44351622 16.75772328\n",
      " 17.14745415 17.03868533 16.92403339 16.80605276 16.96080616 17.11856885\n",
      " 17.27184815 17.01490045 16.97426399 16.89804913 16.8483109  16.79109101\n",
      " 17.10455244 17.48428225 17.01435395 16.68718916 17.36138306 16.95110432\n",
      " 17.12746883 17.29513399 16.87651506 16.93534057 16.96752816 16.74422736\n",
      " 17.13131823 17.18396617 17.13882852 17.32717501 16.91146589 16.65324385\n",
      " 17.204247   16.8515644  17.03703324 17.21102772]\n"
     ]
    }
   ],
   "source": [
    "print(array1)"
   ]
  },
  {
   "cell_type": "code",
   "execution_count": 62,
   "id": "0d72ebfb",
   "metadata": {},
   "outputs": [],
   "source": [
    "Array1=np.random.randint(0, 9, size=(5, 10))#declaring 2-d array and initialising with number 0-9 uniformaly"
   ]
  },
  {
   "cell_type": "code",
   "execution_count": 63,
   "id": "140d7b23",
   "metadata": {},
   "outputs": [
    {
     "data": {
      "text/plain": [
       "8"
      ]
     },
     "execution_count": 63,
     "metadata": {},
     "output_type": "execute_result"
    }
   ],
   "source": [
    "Array1.max()# max value of data set"
   ]
  },
  {
   "cell_type": "code",
   "execution_count": 64,
   "id": "156312e3",
   "metadata": {},
   "outputs": [
    {
     "data": {
      "text/plain": [
       "0"
      ]
     },
     "execution_count": 64,
     "metadata": {},
     "output_type": "execute_result"
    }
   ],
   "source": [
    "Array1.min()#min value of data set"
   ]
  },
  {
   "cell_type": "code",
   "execution_count": 65,
   "id": "79e389ce",
   "metadata": {},
   "outputs": [
    {
     "name": "stdout",
     "output_type": "stream",
     "text": [
      "range of array1= 8\n"
     ]
    }
   ],
   "source": [
    "print('range of array1=',Array1.max()-Array1.min())#range of dataset"
   ]
  },
  {
   "cell_type": "code",
   "execution_count": 160,
   "id": "f155e965",
   "metadata": {},
   "outputs": [
    {
     "data": {
      "image/png": "[encoded data removed]",
      "text/plain": [
       "<Figure size 432x288 with 1 Axes>"
      ]
     },
     "metadata": {
      "needs_background": "light"
     },
     "output_type": "display_data"
    }
   ],
   "source": [
    "\n",
    "Mean=17#MEAN value\n",
    "bins=10#bin given\n",
    "SD = 15  # standard deviation of distribution\n",
    "A, X, C = plt.hist(array1, bins) #Plotting the histogram with data from data set array1 and bin value 10\n",
    "\n",
    "f = (1/(SD*np.sqrt(2*np.pi)))*np.exp(-((X-Mean)**2/(2*SD**2))) #here we are finding probability density\n",
    "plt.plot(X, f)\n",
    "#here we are plotting probability desity \n",
    "plt.show()\n"
   ]
  },
  {
   "cell_type": "code",
   "execution_count": 67,
   "id": "7b3f2c34",
   "metadata": {},
   "outputs": [],
   "source": [
    "#WEEK 5 LINEAR ALGEBRA IN PRACTICE\n",
    "# task 1"
   ]
  },
  {
   "cell_type": "code",
   "execution_count": 69,
   "id": "81334ca7",
   "metadata": {},
   "outputs": [],
   "source": [
    "#importing the required libraries\n",
    "import numpy as np\n",
    "import pandas as pd\n"
   ]
  },
  {
   "cell_type": "code",
   "execution_count": 70,
   "id": "441dee3e",
   "metadata": {},
   "outputs": [],
   "source": [
    "A=np.array([[2,5,1],[4,3,7],[1,3,2]],dtype=int) #initialising 2-d array with given values"
   ]
  },
  {
   "cell_type": "code",
   "execution_count": 71,
   "id": "0758183e",
   "metadata": {},
   "outputs": [],
   "source": [
    "D=np.linalg.det(A)#Finding the diterminant of A"
   ]
  },
  {
   "cell_type": "code",
   "execution_count": 72,
   "id": "3d8a20e7",
   "metadata": {},
   "outputs": [
    {
     "name": "stdout",
     "output_type": "stream",
     "text": [
      "Matrix A: [[2 5 1]\n",
      " [4 3 7]\n",
      " [1 3 2]]\n"
     ]
    }
   ],
   "source": [
    "print('Matrix A:',A) #printing the given martrix"
   ]
  },
  {
   "cell_type": "code",
   "execution_count": 73,
   "id": "79838176",
   "metadata": {},
   "outputs": [
    {
     "name": "stdout",
     "output_type": "stream",
     "text": [
      "Determinant D: -26.000000000000014\n"
     ]
    }
   ],
   "source": [
    "print('Determinant D:',D)#printing the determinant of A"
   ]
  },
  {
   "cell_type": "code",
   "execution_count": 74,
   "id": "754b904b",
   "metadata": {},
   "outputs": [],
   "source": [
    "trace=np.trace(A)#finding trace of A"
   ]
  },
  {
   "cell_type": "code",
   "execution_count": 75,
   "id": "4f3a0bf2",
   "metadata": {},
   "outputs": [
    {
     "name": "stdout",
     "output_type": "stream",
     "text": [
      "7\n"
     ]
    }
   ],
   "source": [
    "print(trace)#printing Trace of A"
   ]
  },
  {
   "cell_type": "code",
   "execution_count": 76,
   "id": "3a9f90a4",
   "metadata": {},
   "outputs": [],
   "source": [
    "Inverse=np.linalg.inv(A) #Finding Inverse of matrix A"
   ]
  },
  {
   "cell_type": "code",
   "execution_count": 77,
   "id": "8dcb17b4",
   "metadata": {},
   "outputs": [
    {
     "data": {
      "text/plain": [
       "array([[ 0.57692308,  0.26923077, -1.23076923],\n",
       "       [ 0.03846154, -0.11538462,  0.38461538],\n",
       "       [-0.34615385,  0.03846154,  0.53846154]])"
      ]
     },
     "execution_count": 77,
     "metadata": {},
     "output_type": "execute_result"
    }
   ],
   "source": [
    "Inverse"
   ]
  },
  {
   "cell_type": "code",
   "execution_count": 78,
   "id": "f90ab9d2",
   "metadata": {},
   "outputs": [
    {
     "name": "stdout",
     "output_type": "stream",
     "text": [
      "[[ 0.57692308  0.26923077 -1.23076923]\n",
      " [ 0.03846154 -0.11538462  0.38461538]\n",
      " [-0.34615385  0.03846154  0.53846154]]\n"
     ]
    }
   ],
   "source": [
    "print(Inverse)#printing inverse of matrix A"
   ]
  },
  {
   "cell_type": "code",
   "execution_count": 79,
   "id": "ee0a3f43",
   "metadata": {},
   "outputs": [],
   "source": [
    "#task 2"
   ]
  },
  {
   "cell_type": "code",
   "execution_count": 80,
   "id": "f39e8abe",
   "metadata": {},
   "outputs": [],
   "source": [
    "B=np.array([[4,7,2],[3,2,5],[6,4,3]],dtype=int) #initialising array B with given value"
   ]
  },
  {
   "cell_type": "code",
   "execution_count": 81,
   "id": "c218ef0b",
   "metadata": {},
   "outputs": [],
   "source": [
    "C=np.array([[3,1,9],[7,5,8],[2,1,1]],dtype=int)  #initialising array A with given value"
   ]
  },
  {
   "cell_type": "code",
   "execution_count": 82,
   "id": "6ab6004d",
   "metadata": {},
   "outputs": [
    {
     "data": {
      "text/plain": [
       "array([[4, 7, 2],\n",
       "       [3, 2, 5],\n",
       "       [6, 4, 3]])"
      ]
     },
     "execution_count": 82,
     "metadata": {},
     "output_type": "execute_result"
    }
   ],
   "source": [
    "B"
   ]
  },
  {
   "cell_type": "code",
   "execution_count": 83,
   "id": "78f00a26",
   "metadata": {},
   "outputs": [
    {
     "data": {
      "text/plain": [
       "array([[3, 1, 9],\n",
       "       [7, 5, 8],\n",
       "       [2, 1, 1]])"
      ]
     },
     "execution_count": 83,
     "metadata": {},
     "output_type": "execute_result"
    }
   ],
   "source": [
    "C"
   ]
  },
  {
   "cell_type": "code",
   "execution_count": 84,
   "id": "0823b4e0",
   "metadata": {},
   "outputs": [],
   "source": [
    "p=np.matmul(B,C) #multiplication of matrix B,C"
   ]
  },
  {
   "cell_type": "code",
   "execution_count": 85,
   "id": "88cb9d1b",
   "metadata": {},
   "outputs": [
    {
     "name": "stdout",
     "output_type": "stream",
     "text": [
      "[[65 41 94]\n",
      " [33 18 48]\n",
      " [52 29 89]]\n"
     ]
    }
   ],
   "source": [
    "print(p)#product P"
   ]
  },
  {
   "cell_type": "code",
   "execution_count": 86,
   "id": "5e474a72",
   "metadata": {},
   "outputs": [],
   "source": [
    "#task3\n"
   ]
  },
  {
   "cell_type": "code",
   "execution_count": 87,
   "id": "f49820b8",
   "metadata": {},
   "outputs": [],
   "source": [
    "A=np.array([[3,2,1],[2,1,4],[4,2,3]],dtype=int)#initialising array a with value given in the algebric eq "
   ]
  },
  {
   "cell_type": "code",
   "execution_count": 88,
   "id": "fe146b5d",
   "metadata": {},
   "outputs": [],
   "source": [
    "B=np.array(['x','y','z'],dtype=str)#initialisng array B  unknown variables"
   ]
  },
  {
   "cell_type": "code",
   "execution_count": 89,
   "id": "2e134ca1",
   "metadata": {},
   "outputs": [
    {
     "data": {
      "text/plain": [
       "array(['x', 'y', 'z'], dtype='<U1')"
      ]
     },
     "execution_count": 89,
     "metadata": {},
     "output_type": "execute_result"
    }
   ],
   "source": [
    "B"
   ]
  },
  {
   "cell_type": "code",
   "execution_count": 91,
   "id": "28a939a4",
   "metadata": {},
   "outputs": [],
   "source": [
    "C=np.array([25,19,18],dtype=int) #initialisng C with results"
   ]
  },
  {
   "cell_type": "code",
   "execution_count": 92,
   "id": "f5120323",
   "metadata": {},
   "outputs": [
    {
     "name": "stdout",
     "output_type": "stream",
     "text": [
      "A: [[3 2 1]\n",
      " [2 1 4]\n",
      " [4 2 3]]\n"
     ]
    }
   ],
   "source": [
    "print('A:',A)#printing A"
   ]
  },
  {
   "cell_type": "code",
   "execution_count": 93,
   "id": "0f413e57",
   "metadata": {},
   "outputs": [
    {
     "name": "stdout",
     "output_type": "stream",
     "text": [
      "B ['x' 'y' 'z']\n"
     ]
    }
   ],
   "source": [
    "print('B',B)\n",
    "#printing B"
   ]
  },
  {
   "cell_type": "code",
   "execution_count": 94,
   "id": "ab07140b",
   "metadata": {},
   "outputs": [
    {
     "name": "stdout",
     "output_type": "stream",
     "text": [
      "C [25 19 18]\n"
     ]
    }
   ],
   "source": [
    "print('C',C) #printing C"
   ]
  },
  {
   "cell_type": "code",
   "execution_count": 96,
   "id": "df2e540f",
   "metadata": {},
   "outputs": [
    {
     "name": "stdout",
     "output_type": "stream",
     "text": [
      "[[3 2 1]\n",
      " [2 1 4]\n",
      " [4 2 3]] * ['x' 'y' 'z'] = [25 19 18]\n"
     ]
    }
   ],
   "source": [
    "#task 4\n",
    "#Matrix Notation\n",
    "#A.X=C\n",
    "print(A,'*',B,'=',C) #Matric notation of given equation"
   ]
  },
  {
   "cell_type": "code",
   "execution_count": 97,
   "id": "43e0ae8c",
   "metadata": {},
   "outputs": [
    {
     "name": "stdout",
     "output_type": "stream",
     "text": [
      "[[-1.  -0.8  1.4]\n",
      " [ 2.   1.  -2. ]\n",
      " [ 0.   0.4 -0.2]] * [25 19 18] = B\n"
     ]
    }
   ],
   "source": [
    "#steps \n",
    "#Inverse of matrix A\n",
    "print(np.linalg.inv(A),'*',C,'=','B')\n"
   ]
  },
  {
   "cell_type": "code",
   "execution_count": 101,
   "id": "a293ab4b",
   "metadata": {},
   "outputs": [
    {
     "name": "stdout",
     "output_type": "stream",
     "text": [
      "[[-1.  -0.8  1.4]\n",
      " [ 2.   1.  -2. ]\n",
      " [ 0.   0.4 -0.2]]\n"
     ]
    }
   ],
   "source": [
    "#task 5\n",
    "A1=np.linalg.inv(A)#inverse of matric A\n",
    "print(A1)\n"
   ]
  },
  {
   "cell_type": "code",
   "execution_count": 103,
   "id": "216bd38e",
   "metadata": {},
   "outputs": [
    {
     "name": "stdout",
     "output_type": "stream",
     "text": [
      "[-15.  33.   4.]\n"
     ]
    }
   ],
   "source": [
    "X=np.matmul(A1,C)#multiplying inverse with matrix A\n",
    "print(X)#unknown value"
   ]
  },
  {
   "cell_type": "code",
   "execution_count": 104,
   "id": "86abe52b",
   "metadata": {},
   "outputs": [],
   "source": [
    "#WEEK 6 \n",
    "# DATA VISUALISATION\n",
    "\n",
    "\n",
    "#PUBLIC TRANSPORT NETWORK\n",
    "import networkx as nx #importing required Library \n",
    "import matplotlib.pyplot as plt\n",
    "Graph_data = nx.Graph()"
   ]
  },
  {
   "cell_type": "code",
   "execution_count": 105,
   "id": "22cde1a8",
   "metadata": {},
   "outputs": [],
   "source": [
    "#Node for greenline metro stations in bangalore\n",
    "Graph_data.add_node('A', npos=(10, 10), ccn='#00FF00')\n",
    "\n",
    "Graph_data.add_node('B', npos=(50, 50), ccn='#00FF00')\n",
    "\n",
    "Graph_data.add_node('C', npos=(70, 50), ccn='#00FF00')\n",
    "\n",
    "Graph_data.add_node('D', npos=(90, 50), ccn='#00FF00')\n",
    "\n",
    "#node for purple line metro stations in bangalore\n",
    "\n",
    "Graph_data.add_node('E', npos=(30, 20), ccn='#AF33FF')\n",
    "\n",
    "Graph_data.add_node('F', npos=(70, 90), ccn='#AF33FF')\n",
    "\n",
    "Graph_data.add_node('H', npos=(70, 10), ccn='#AF33FF')\n"
   ]
  },
  {
   "cell_type": "code",
   "execution_count": 106,
   "id": "f0353e0d",
   "metadata": {},
   "outputs": [],
   "source": [
    "# Connecting nodes of Green Line mtero stations\n",
    "Graph_data.add_edge('A', 'B', cce='#00FF00')\n",
    "\n",
    "Graph_data.add_edge('B', 'C', cce='#00FF00')\n",
    "\n",
    "Graph_data.add_edge('C', 'D', cce='#00FF00')\n",
    "# connecting noted of purple line metro stations purple Line\n",
    "Graph_data.add_edge('E', 'H', cce='#AF33FF')\n",
    "\n",
    "Graph_data.add_edge('H', 'C', cce='#AF33FF')\n",
    "\n",
    "Graph_data.add_edge('C', 'F', cce='#AF33FF')"
   ]
  },
  {
   "cell_type": "code",
   "execution_count": 107,
   "id": "2a86386e",
   "metadata": {},
   "outputs": [],
   "source": [
    "pos = nx.get_node_attributes(Graph_data, 'npos')# extracting nodes possitions to pos array  \n",
    "\n",
    "nodecolour = nx.get_node_attributes(Graph_data, 'ccn')#extracting node's color to nodecolor array\n",
    "\n",
    "edgecolour = nx.get_edge_attributes(Graph_data, 'cce')#extracting edge's color to edgecolor array"
   ]
  },
  {
   "cell_type": "code",
   "execution_count": 108,
   "id": "8f9af15c",
   "metadata": {},
   "outputs": [
    {
     "data": {
      "image/png": "[encoded data removed]",
      "text/plain": [
       "<Figure size 720x504 with 1 Axes>"
      ]
     },
     "metadata": {},
     "output_type": "display_data"
    }
   ],
   "source": [
    "NodeList = list(nodecolour.values())# forming a list of nodecolor\n",
    "\n",
    "EdgeList = list(edgecolour.values())#forming a list of edgecolor\n",
    "\n",
    "\n",
    "\n",
    "# Setting the size of the fig.\n",
    "\n",
    "plt.figure(figsize=(10, 7))\n",
    "# Display the names of the stations\n",
    "plt.text(15, 10, s='MG ROAD', rotation=0)#naming station and setting its location and orientation\n",
    "plt.text(45, 55, s='TRINITY', rotation=0)\n",
    "plt.text(56, 89, s='INDRANAGAR', rotation=0)\n",
    "plt.text(67, 55, s='BEL CIRCLE', rotation=0)\n",
    "\n",
    "plt.text(85, 55, s='BRIGAGE ROAD', rotation=0)\n",
    "plt.text(20, 16, s='MYSORE ROAD', rotation=0)\n",
    "plt.text(70, 6, s='CHURCH STREET', rotation=0)\n",
    "\n",
    "# Drawing the nodes and the edges in graph\n",
    "\n",
    "nx.draw_networkx(Graph_data, pos, node_color=NodeList)\n",
    "\n",
    "nx.draw_networkx_edges(Graph_data, pos, edge_color=EdgeList)\n",
    "\n",
    "# Visualising the graph\n",
    "plt.show()"
   ]
  },
  {
   "cell_type": "code",
   "execution_count": 109,
   "id": "870a48f2",
   "metadata": {},
   "outputs": [],
   "source": [
    "#HEAT MAP OF CITIES"
   ]
  },
  {
   "cell_type": "code",
   "execution_count": 131,
   "id": "60b5a865",
   "metadata": {},
   "outputs": [],
   "source": [
    "# This subroutine contain the 'plot' method, as the most suitable for raster rendering\n",
    "def DrawBox(x, y, size, r, g, b):\n",
    "    if r < 0:\n",
    "        r = int(0)\n",
    "    if g < 0:\n",
    "        g = int(0)\n",
    "    if b < 0:\n",
    "        b = int(0)\n",
    "    if r > 255:\n",
    "        r = int(255)\n",
    "    if g > 255:\n",
    "        g = int(255)\n",
    "    if b > 255:\n",
    "        b = int(255)\n",
    "    for i in range(0, int(size)):\n",
    "        plt.plot([x, x + size], [y + i, y + i], '#{:02x}{:02x}{:02x}'.format(r, g, b))"
   ]
  },
  {
   "cell_type": "code",
   "execution_count": 132,
   "id": "091773f1",
   "metadata": {},
   "outputs": [
    {
     "name": "stdout",
     "output_type": "stream",
     "text": [
      "        City   1   2   3   4   5   6   7   8   9  10  11  12\n",
      "0  Bangalore  20   8  11  16  21  25  27  26  23  17  10   6\n",
      "1  Hyderabad   4   6  12  17  21  25  28  27  23  17  11   6\n",
      "2      Delhi   9  11  13  15  18  21  23  23  21  17  13   9\n"
     ]
    }
   ],
   "source": [
    "# Storing the csv data into dataframe df\n",
    "df = pd.read_csv('HeatMap_portfolio.csv')\n",
    "# Print the dataframe df\n",
    "print(df.head(7))"
   ]
  },
  {
   "cell_type": "code",
   "execution_count": 152,
   "id": "794ccb15",
   "metadata": {},
   "outputs": [
    {
     "data": {
      "image/png": "[encoded data removed]",
      "text/plain": [
       "<Figure size 1296x252 with 1 Axes>"
      ]
     },
     "metadata": {},
     "output_type": "display_data"
    }
   ],
   "source": [
    "plt.figure(figsize=(18, 3.5))\n",
    "plt.axis([0, 600, 0, 400])\n",
    "plt.xticks([])\n",
    "plt.yticks([])\n",
    "\n",
    "Min = int(min(df.min(numeric_only=True)))\n",
    "Max = int(max(df.max(numeric_only=True)))\n",
    "\n",
    "BoxSize = int(40)\n",
    "OffsetX = int(15)\n",
    "OffsetY = int(12)\n",
    "\n",
    "# Generating  the heat map with required data\n",
    "for i in range(0, df.shape[0]):\n",
    "    for j in range(1, df.shape[1]):\n",
    "        ColourCode = int(((df.values[i, j]-Min)/(Max-Min))*250)\n",
    "        DrawBox(20+BoxSize*j, 300-BoxSize*i, BoxSize, ColourCode, 0,150)# color code\n",
    "        plt.text(OffsetX+20+BoxSize*j, OffsetY+300-BoxSize*i, str(df.values[i, j]), color='yellow')\n",
    "\n",
    "# Generating the scale of map\n",
    "for i in range(0, 255):\n",
    "    plt.plot([560, 570], [i + 60, i + 60], '#{:02x}{:02x}{:02x}'.format(int(i), 0, 155))\n",
    "plt.text(585, 58, Min)# location for min\n",
    "plt.text(585, 312, Max)#location for max\n",
    "#placing the months on scale\n",
    "plt.text(72, 20, 'Jan')\n",
    "plt.text(112, 20, 'Feb')\n",
    "plt.text(152, 20, 'Mar')\n",
    "plt.text(192, 20, 'Apr')\n",
    "plt.text(232, 20, 'May')\n",
    "plt.text(272, 20, 'Jun')\n",
    "plt.text(312, 20, 'Jul')\n",
    "plt.text(352, 20, 'Aug')\n",
    "plt.text(392, 20, 'Sep')\n",
    "plt.text(432, 20, 'Oct')\n",
    "plt.text(472, 20, 'Nov')\n",
    "plt.text(512, 20, 'Dec')\n",
    "\n",
    "plt.text(5, 315, str(df.values[0, 0]))\n",
    "plt.text(5, 275, str(df.values[1, 0]))\n",
    "plt.text(5, 235, str(df.values[2, 0]))\n",
    "#displaying the heat map graph\n",
    "\n",
    "plt.show()\n",
    "\n",
    "\n"
   ]
  },
  {
   "cell_type": "code",
   "execution_count": 153,
   "id": "86cfb670",
   "metadata": {},
   "outputs": [],
   "source": [
    "#PARALLEL COORDINATES"
   ]
  },
  {
   "cell_type": "code",
   "execution_count": 154,
   "id": "24f7e02c",
   "metadata": {},
   "outputs": [
    {
     "name": "stdout",
     "output_type": "stream",
     "text": [
      "        City   1   2   3   4   5   6   7   8   9  10  11  12\n",
      "0  Bangalore  20   8  11  16  21  25  27  26  23  17  10   6\n",
      "1  Hyderabad   4   6  12  17  21  25  28  27  23  17  11   6\n",
      "2      Delhi   9  11  13  15  18  21  23  23  21  17  13   9\n"
     ]
    }
   ],
   "source": [
    "# Storing  the dataset into a data frame\n",
    "df = pd.read_csv('HeatMap_portfolio.csv')\n",
    "# Printing dataframe content\n",
    "print(df.head(7))"
   ]
  },
  {
   "cell_type": "code",
   "execution_count": 155,
   "id": "ec26fbf0",
   "metadata": {},
   "outputs": [
    {
     "name": "stdout",
     "output_type": "stream",
     "text": [
      "Number of Rows:  4\n",
      "Number of Columns:  13\n"
     ]
    }
   ],
   "source": [
    "# Reading dataset from CSV file\n",
    "ThisArray = np.genfromtxt('HeatMap_portfolio.csv', delimiter=',', dtype='float')\n",
    "\n",
    "# Printing dimensions of dataset\n",
    "print('Number of Rows: ', ThisArray.shape[0])\n",
    "print('Number of Columns: ', ThisArray.shape[1])\n",
    "\n",
    "# Find the max values per column\n",
    "Maximum = np.amax(ThisArray, axis=0)\n",
    "\n",
    "# Normalising to interval 0 .. 100\n",
    "for i in range(0, ThisArray.shape[0]):\n",
    "    for j in range(0, ThisArray.shape[1]-1):\n",
    "        ThisArray[i, j] = float(ThisArray[i, j]*(100.0/Maximum[j]))"
   ]
  },
  {
   "cell_type": "code",
   "execution_count": 156,
   "id": "59e71ed8",
   "metadata": {},
   "outputs": [],
   "source": [
    "# month names\n",
    "Name = ['CITY','Jan', 'Feb', 'March', 'Apl', 'May', 'Jun','Jul','Aug','Sept','Oct','Nov','Dec']\n"
   ]
  },
  {
   "cell_type": "code",
   "execution_count": 157,
   "id": "3c180628",
   "metadata": {},
   "outputs": [
    {
     "data": {
      "text/plain": [
       "([], [])"
      ]
     },
     "execution_count": 157,
     "metadata": {},
     "output_type": "execute_result"
    },
    {
     "data": {
      "image/png": "[encoded data removed]",
      "text/plain": [
       "<Figure size 432x288 with 1 Axes>"
      ]
     },
     "metadata": {
      "needs_background": "light"
     },
     "output_type": "display_data"
    }
   ],
   "source": [
    "# creating random  RGB in hexa value\n",
    "k = ['C', 'A', 'F', 'E', 'D', '0', '6', '7', '0', '9', '1', 'B', 'C', '4', 'E', '2']\n",
    "MyC = '#'\n",
    "for i in range(0, 6):\n",
    "    s = np.random.choice(k)\n",
    "    MyC = MyC + s\n",
    "\n",
    "plt.yticks([])\n",
    "\n",
    "\n"
   ]
  },
  {
   "cell_type": "code",
   "execution_count": 158,
   "id": "60848e91",
   "metadata": {},
   "outputs": [
    {
     "data": {
      "image/png": "[encoded data removed]",
      "text/plain": [
       "<Figure size 432x288 with 1 Axes>"
      ]
     },
     "metadata": {
      "needs_background": "light"
     },
     "output_type": "display_data"
    }
   ],
   "source": [
    "# Spines!\n",
    "for i in range(0, ThisArray.shape[1]):\n",
    "    plt.vlines(i, 0, 100, '#808080')"
   ]
  },
  {
   "cell_type": "code",
   "execution_count": 159,
   "id": "e435be3d",
   "metadata": {},
   "outputs": [
    {
     "data": {
      "image/png": "[encoded data removed]",
      "text/plain": [
       "<Figure size 432x288 with 1 Axes>"
      ]
     },
     "metadata": {
      "needs_background": "light"
     },
     "output_type": "display_data"
    }
   ],
   "source": [
    "# Generating the parallel coordinates\n",
    "for i in range(0, ThisArray.shape[0]):\n",
    "    if ThisArray[i, 4] < float(40.0):\n",
    "        MyC = '#'\n",
    "        for j in range(0, 6):\n",
    "            s1 = np.random.choice(k)\n",
    "            s2 = np.random.choice(k)\n",
    "            MyC = '#' + s1 + s2 + '0000'\n",
    "        plt.plot(Name, ThisArray[i], MyC)"
   ]
  },
  {
   "cell_type": "code",
   "execution_count": 120,
   "id": "bee46fd0",
   "metadata": {},
   "outputs": [],
   "source": [
    "for i in range(0, ThisArray.shape[0]):\n",
    "    if float(40.0) < ThisArray[i, 4] < float(60.0):\n",
    "        MyC = '#'\n",
    "        for j in range(0, 6):\n",
    "            s1 = np.random.choice(k)\n",
    "            s2 = np.random.choice(k)\n",
    "            MyC = '#' + '00' + s1 + s2 + '00'\n",
    "        plt.plot(Name, ThisArray[i], MyC)"
   ]
  },
  {
   "cell_type": "code",
   "execution_count": 121,
   "id": "d17d0f7e",
   "metadata": {},
   "outputs": [
    {
     "data": {
      "image/png": "[encoded data removed]",
      "text/plain": [
       "<Figure size 432x288 with 1 Axes>"
      ]
     },
     "metadata": {
      "needs_background": "light"
     },
     "output_type": "display_data"
    }
   ],
   "source": [
    "for i in range(0, ThisArray.shape[0]):\n",
    "    if float(60.0) < ThisArray[i, 4]:\n",
    "        MyC = '#'\n",
    "        for j in range(0, 6):\n",
    "            s1 = np.random.choice(k)\n",
    "            s2 = np.random.choice(k)\n",
    "            MyC = '#' + '00CF' + s1 + s2\n",
    "        plt.plot(Name, ThisArray[i], MyC)\n",
    "\n",
    "plt.text(0, 101, round(Maximum[0], 2))\n",
    "plt.text(1, 101, round(Maximum[1], 2))\n",
    "plt.text(2, 101, round(Maximum[2], 2))\n",
    "plt.text(3, 101, round(Maximum[3], 2))\n",
    "plt.show()"
   ]
  },
  {
   "cell_type": "code",
   "execution_count": null,
   "id": "96c7d707",
   "metadata": {},
   "outputs": [],
   "source": []
  }
 ],
 "metadata": {
  "kernelspec": {
   "display_name": "Python 3 (ipykernel)",
   "language": "python",
   "name": "python3"
  },
  "language_info": {
   "codemirror_mode": {
    "name": "ipython",
    "version": 3
   },
   "file_extension": ".py",
   "mimetype": "text/x-python",
   "name": "python",
   "nbconvert_exporter": "python",
   "pygments_lexer": "ipython3",
   "version": "3.9.7"
  }
 },
 "nbformat": 4,
 "nbformat_minor": 5
}
